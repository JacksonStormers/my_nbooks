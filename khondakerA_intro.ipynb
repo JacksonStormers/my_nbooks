{
 "cells": [
  {
   "cell_type": "markdown",
   "id": "9e14e038-3ef3-4250-901a-9c42db80ecc2",
   "metadata": {},
   "source": [
    "# First Jupyter Notebook"
   ]
  },
  {
   "cell_type": "markdown",
   "id": "d957eac0-0c3c-4885-9748-48dc3f473047",
   "metadata": {},
   "source": [
    "## Aref Khondaker"
   ]
  },
  {
   "cell_type": "code",
   "execution_count": 1,
   "id": "900cb867-c80c-43d9-9068-30a42ec819b9",
   "metadata": {},
   "outputs": [],
   "source": [
    "import random\n",
    "nums = [random.randint(30,100) for x in range(40)]"
   ]
  },
  {
   "cell_type": "code",
   "execution_count": 2,
   "id": "6271bea2-6d0e-491f-a922-9175eeffda8f",
   "metadata": {},
   "outputs": [
    {
     "name": "stdout",
     "output_type": "stream",
     "text": [
      "30 31 33 33 35 36 36 40 43 44 45 47 48 48 52 52 52 55 60 63 64 68 73 73 77 80 83 83 84 85 87 89 89 90 92 95 96 96 98 99\n"
     ]
    }
   ],
   "source": [
    "nums.sort()\n",
    "print(*nums)"
   ]
  },
  {
   "cell_type": "markdown",
   "id": "b66f7ae9-84f6-4c02-a014-4e9f6594f654",
   "metadata": {},
   "source": [
    "## The Sample Mean\n",
    "- A sample mean is calculated by getting the total sum from the sample and then dividing that sum with the total number of values within that sample."
   ]
  },
  {
   "cell_type": "markdown",
   "id": "15d80719-6578-4975-b9e0-438104941f6e",
   "metadata": {},
   "source": [
    "### $\\overline{x}$ = $\\frac{\\sum x_i}{n}$"
   ]
  },
  {
   "cell_type": "code",
   "execution_count": 3,
   "id": "44ae9aca-9c54-48a1-afe0-87f88f307257",
   "metadata": {},
   "outputs": [
    {
     "data": {
      "text/plain": [
       "'The mean of the random numbers list is $64.60'"
      ]
     },
     "execution_count": 3,
     "metadata": {},
     "output_type": "execute_result"
    }
   ],
   "source": [
    "average = sum(nums)/len(nums)\n",
    "f\"The mean of the random numbers list is ${average:.2f}\" "
   ]
  },
  {
   "cell_type": "markdown",
   "id": "86349954-9ef7-4d5e-9c77-668a36607cc1",
   "metadata": {},
   "source": [
    "## The Median\n",
    "https://www.investopedia.com/terms/m/median.asp\n"
   ]
  },
  {
   "cell_type": "code",
   "execution_count": 4,
   "id": "656e94df-3d08-4500-8a19-2534858375aa",
   "metadata": {},
   "outputs": [
    {
     "data": {
      "text/plain": [
       "'The median of the random numbers list is 63.5'"
      ]
     },
     "execution_count": 4,
     "metadata": {},
     "output_type": "execute_result"
    }
   ],
   "source": [
    "# The Median can be calculated from a list that holds and even amount of values by taking the average between the two numbers in the middle of the list.\n",
    "import statistics \n",
    "median = statistics.median(nums)\n",
    "f\"The median of the random numbers list is {median:.1f}\""
   ]
  }
 ],
 "metadata": {
  "kernelspec": {
   "display_name": "Python 3 (ipykernel)",
   "language": "python",
   "name": "python3"
  },
  "language_info": {
   "codemirror_mode": {
    "name": "ipython",
    "version": 3
   },
   "file_extension": ".py",
   "mimetype": "text/x-python",
   "name": "python",
   "nbconvert_exporter": "python",
   "pygments_lexer": "ipython3",
   "version": "3.11.7"
  }
 },
 "nbformat": 4,
 "nbformat_minor": 5
}
